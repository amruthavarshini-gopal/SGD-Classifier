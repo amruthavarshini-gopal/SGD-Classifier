{
 "cells": [
  {
   "cell_type": "code",
   "execution_count": 1,
   "id": "ec95f068",
   "metadata": {},
   "outputs": [
    {
     "name": "stdout",
     "output_type": "stream",
     "text": [
      "Name : Amruthavarshini Gopal\n",
      "Register Number : 212223230013\n",
      "   sepal length (cm)  sepal width (cm)  petal length (cm)  petal width (cm)  \\\n",
      "0                5.1               3.5                1.4               0.2   \n",
      "1                4.9               3.0                1.4               0.2   \n",
      "2                4.7               3.2                1.3               0.2   \n",
      "3                4.6               3.1                1.5               0.2   \n",
      "4                5.0               3.6                1.4               0.2   \n",
      "\n",
      "   target  \n",
      "0       0  \n",
      "1       0  \n",
      "2       0  \n",
      "3       0  \n",
      "4       0  \n",
      "Accuracy: 0.867\n",
      "Confusion Matrix:\n",
      "[[10  0  0]\n",
      " [ 1  5  3]\n",
      " [ 0  0 11]]\n",
      "              precision    recall  f1-score   support\n",
      "\n",
      "           0       0.91      1.00      0.95        10\n",
      "           1       1.00      0.56      0.71         9\n",
      "           2       0.79      1.00      0.88        11\n",
      "\n",
      "    accuracy                           0.87        30\n",
      "   macro avg       0.90      0.85      0.85        30\n",
      "weighted avg       0.89      0.87      0.85        30\n",
      "\n"
     ]
    }
   ],
   "source": [
    "print(\"Name : Amruthavarshini Gopal\")\n",
    "print(\"Register Number : 212223230013\")\n",
    "import pandas as pd\n",
    "from sklearn.datasets import load_iris\n",
    "from sklearn.linear_model import SGDClassifier\n",
    "from sklearn.model_selection import train_test_split\n",
    "from sklearn.metrics import accuracy_score,confusion_matrix,classification_report\n",
    "iris=load_iris()\n",
    "df=pd.DataFrame(data=iris.data,columns=iris.feature_names)\n",
    "df['target']=iris.target\n",
    "print(df.head())\n",
    "x=df.drop('target',axis=1)\n",
    "y=df['target']\n",
    "x_train,x_test,y_train,y_test=train_test_split(x,y,test_size=0.2,random_state=42)\n",
    "sgd_clf=SGDClassifier(max_iter=1000,tol=1e-3)\n",
    "sgd_clf.fit(x_train,y_train)\n",
    "y_pred=sgd_clf.predict(x_test)\n",
    "accuracy=accuracy_score(y_test,y_pred)\n",
    "print(f\"Accuracy: {accuracy:.3f}\")\n",
    "cm=confusion_matrix(y_test,y_pred)\n",
    "print(\"Confusion Matrix:\")\n",
    "print(cm)\n",
    "classification_report1=classification_report(y_test,y_pred)\n",
    "print(classification_report1)"
   ]
  }
 ],
 "metadata": {
  "kernelspec": {
   "display_name": "Python 3 (ipykernel)",
   "language": "python",
   "name": "python3"
  },
  "language_info": {
   "codemirror_mode": {
    "name": "ipython",
    "version": 3
   },
   "file_extension": ".py",
   "mimetype": "text/x-python",
   "name": "python",
   "nbconvert_exporter": "python",
   "pygments_lexer": "ipython3",
   "version": "3.11.3"
  }
 },
 "nbformat": 4,
 "nbformat_minor": 5
}
